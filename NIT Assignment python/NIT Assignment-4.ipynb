{
 "cells": [
  {
   "cell_type": "raw",
   "id": "fce484cf",
   "metadata": {},
   "source": [
    "1.\tWrite python required argument function to calculate factorial of given number\n",
    "2.\tWrite user defined function to calculate Fibonacci series of Nth series\n",
    "3.\tWrite user defined function by name as login() having parameters as username, password validate on success return true otherwise false\n",
    "4.\tDefine your function with position only argument calculate s=u*t + ½ (a*t)*(a*t) where u,t and a are parameters of the function with function name as calcucalteDistance()\n",
    "5.\tDefine your function to calculate amstrong number\n",
    "6.\tDefine varying argument function to display sum of square of given list of numbers\n",
    "7.\tusing defualt value argument write a code calculate bonus for employee, where input name, salary, bonus\n",
    "8.\tset bonus default value as 500   return sal+bonus as total payment to employee\n"
   ]
  },
  {
   "cell_type": "code",
   "execution_count": 1,
   "id": "420d0362",
   "metadata": {},
   "outputs": [
    {
     "name": "stdout",
     "output_type": "stream",
     "text": [
      "3628800\n"
     ]
    }
   ],
   "source": [
    "# 1.Write python required argument function to calculate factorial of given number\n",
    "def fectorial(n):\n",
    "    temp=n\n",
    "    fact=1\n",
    "    if temp<1:\n",
    "        print(\"negative number does't not takes factorials\")\n",
    "    elif temp==0:\n",
    "        print(\"Given number is factorial of 0 and 1\")\n",
    "    else:\n",
    "        for i in range(1,temp+1):\n",
    "            fact= fact*i\n",
    "        print(fact)\n",
    "fectorial(10)"
   ]
  },
  {
   "cell_type": "code",
   "execution_count": 2,
   "id": "118bb762",
   "metadata": {},
   "outputs": [
    {
     "name": "stdout",
     "output_type": "stream",
     "text": [
      "the Nth series of the fibonacci series 233\n"
     ]
    }
   ],
   "source": [
    "# 2.Write user defined function to calculate Fibonacci series of Nth series\n",
    "def feb(n):\n",
    "    s=n\n",
    "    a=0\n",
    "    b=1\n",
    "    if n==1:\n",
    "        print(a)\n",
    "    elif n==0:\n",
    "        print(a)\n",
    "        print(b)\n",
    "    for i in range(1,s+1):\n",
    "        c=a+b\n",
    "        a=b\n",
    "        b=c\n",
    "    print(f'the Nth series of the fibonacci series {c}')\n",
    "feb(12)   "
   ]
  },
  {
   "cell_type": "code",
   "execution_count": 3,
   "id": "d5d30694",
   "metadata": {},
   "outputs": [
    {
     "data": {
      "text/plain": [
       "True"
      ]
     },
     "execution_count": 3,
     "metadata": {},
     "output_type": "execute_result"
    }
   ],
   "source": [
    "# 3.Write user defined function by name as login() having parameters as username, password validate on success return true otherwise false\n",
    "def login(user,pwd):\n",
    "    char=['a','b','c','d','e','f','g','h','i','j','k','l','m','n','o','p','q','r','s','t','u','v','w','x','y','z']\n",
    "    p=['!','@','#',\"$\"]\n",
    "    for user in char:\n",
    "        return True\n",
    "    for pwd in p:\n",
    "        return True\n",
    "    else:\n",
    "        return False\n",
    "login(\"rama\",\"!@#$%\")"
   ]
  },
  {
   "cell_type": "code",
   "execution_count": 4,
   "id": "b2a6e416",
   "metadata": {},
   "outputs": [
    {
     "data": {
      "text/plain": [
       "2080920.0"
      ]
     },
     "execution_count": 4,
     "metadata": {},
     "output_type": "execute_result"
    }
   ],
   "source": [
    "# 4.\tDefine your function with position only argument calculate s=u*t + ½ (a*t)*(a*t) where u,t and a are parameters of the function with function name as calcucalteDistance()\n",
    "def calcucalteDistance(u,a,t):\n",
    "    s=u*t+1/2*(a*t)*(a*t)\n",
    "    return s\n",
    "calcucalteDistance(2,34,60)"
   ]
  },
  {
   "cell_type": "code",
   "execution_count": 1,
   "id": "b443b8da",
   "metadata": {},
   "outputs": [
    {
     "name": "stdout",
     "output_type": "stream",
     "text": [
      "Enter the number 123\n",
      "Given number is not a Amstrong number:  123\n"
     ]
    }
   ],
   "source": [
    "##### 5.\tDefine your function to calculate amstrong number\n",
    "def amstrong():\n",
    "    n=int(input(\"Enter the number \"))\n",
    "    temp=n\n",
    "    s=0\n",
    "    while temp>0:\n",
    "        digit=temp%10\n",
    "        s+=digit**3\n",
    "        temp=temp//10\n",
    "    if s==n:\n",
    "        print(\"Given number is Amstrong Number : \",n)\n",
    "    else:\n",
    "        print(\"Given number is not a Amstrong number: \",n)\n",
    "amstrong()"
   ]
  },
  {
   "cell_type": "code",
   "execution_count": 6,
   "id": "56d454df",
   "metadata": {},
   "outputs": [
    {
     "name": "stdout",
     "output_type": "stream",
     "text": [
      "Enter the Number : 66\n"
     ]
    },
    {
     "data": {
      "text/plain": [
       "('the sum of the square of given list number ', 98021.0)"
      ]
     },
     "execution_count": 6,
     "metadata": {},
     "output_type": "execute_result"
    }
   ],
   "source": [
    "# 6.\tDefine varying argument function to display sum of square of given list of numbers\n",
    "def sum_of_square():\n",
    "    n=int(input(\"Enter the Number : \"))\n",
    "    s=n*(n+1)*(2*n+1)/6\n",
    "    return 'the sum of the square of given list number ',s\n",
    "sum_of_square()"
   ]
  },
  {
   "cell_type": "code",
   "execution_count": 10,
   "id": "687350f9",
   "metadata": {},
   "outputs": [
    {
     "name": "stdout",
     "output_type": "stream",
     "text": [
      "Enter the employee name : ramakrish\n"
     ]
    },
    {
     "data": {
      "text/plain": [
       "(2500.0, 50000)"
      ]
     },
     "execution_count": 10,
     "metadata": {},
     "output_type": "execute_result"
    }
   ],
   "source": [
    "# 7.\tusing defualt value argument write a code calculate bonus for employee, where input name, salary, bonus\n",
    "def bonus(bonus_percentage=0.05):\n",
    "    ename=input(\"Enter the employee name : \")\n",
    "    salary=50000\n",
    "    bouns=salary*bonus_percentage\n",
    "    return bouns,salary\n",
    "bonus()"
   ]
  },
  {
   "cell_type": "code",
   "execution_count": 17,
   "id": "53177492",
   "metadata": {},
   "outputs": [
    {
     "data": {
      "text/plain": [
       "50500"
      ]
     },
     "execution_count": 17,
     "metadata": {},
     "output_type": "execute_result"
    }
   ],
   "source": [
    "# 8.\tset bonus default value as 500   return sal+bonus as total payment to employee\n",
    "def bonus(name,sal,bonus=500):\n",
    "    total=sal+bonus\n",
    "    return total\n",
    "bonus(\"rama\",50000)"
   ]
  },
  {
   "cell_type": "code",
   "execution_count": null,
   "id": "7d100eec",
   "metadata": {},
   "outputs": [],
   "source": []
  },
  {
   "cell_type": "code",
   "execution_count": null,
   "id": "202a86da",
   "metadata": {},
   "outputs": [],
   "source": []
  },
  {
   "cell_type": "code",
   "execution_count": null,
   "id": "cd40ec24",
   "metadata": {},
   "outputs": [],
   "source": []
  },
  {
   "cell_type": "code",
   "execution_count": null,
   "id": "549a4a39",
   "metadata": {},
   "outputs": [],
   "source": []
  },
  {
   "cell_type": "code",
   "execution_count": null,
   "id": "552e8f87",
   "metadata": {},
   "outputs": [],
   "source": []
  },
  {
   "cell_type": "code",
   "execution_count": null,
   "id": "072ffbd2",
   "metadata": {},
   "outputs": [],
   "source": []
  }
 ],
 "metadata": {
  "kernelspec": {
   "display_name": "Python 3 (ipykernel)",
   "language": "python",
   "name": "python3"
  },
  "language_info": {
   "codemirror_mode": {
    "name": "ipython",
    "version": 3
   },
   "file_extension": ".py",
   "mimetype": "text/x-python",
   "name": "python",
   "nbconvert_exporter": "python",
   "pygments_lexer": "ipython3",
   "version": "3.11.1"
  }
 },
 "nbformat": 4,
 "nbformat_minor": 5
}
