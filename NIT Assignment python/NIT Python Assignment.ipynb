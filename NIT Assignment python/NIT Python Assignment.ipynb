{
 "cells": [
  {
   "cell_type": "raw",
   "id": "b728a15f",
   "metadata": {},
   "source": [
    "# 1. using inputs as  name, salary display name and annual salary \n",
    "# 2. using input as p,n,r values calculate interest with formula p*n*r/100\n",
    "# 3. using formula e=m*c**c return result"
   ]
  },
  {
   "cell_type": "code",
   "execution_count": 7,
   "id": "eacfa270",
   "metadata": {},
   "outputs": [
    {
     "name": "stdout",
     "output_type": "stream",
     "text": [
      "Enter the name : Mahi\n",
      "Enter the salary : 120000\n",
      "The name of the person Mahi\n",
      "Annual salary of the person 1440000 ₹\n"
     ]
    }
   ],
   "source": [
    "# 1. using inputs as  name, salary display name and annual salary \n",
    "name= input(\"Enter the name : \")\n",
    "salary= int(input(\"Enter the salary : \"))\n",
    "Annual= salary*12   \n",
    "print(\"The name of the person\",name)\n",
    "print(\"Annual salary of the person\",Annual,\"₹\")"
   ]
  },
  {
   "cell_type": "code",
   "execution_count": 15,
   "id": "f6a18c0a",
   "metadata": {},
   "outputs": [
    {
     "name": "stdout",
     "output_type": "stream",
     "text": [
      "Enter the Principal Amount : 1200000\n",
      "Enter the period : 2\n",
      "Enter the rate of interest : 3\n",
      "The interest 72000.0 of the 1200000,2,'&'3\n"
     ]
    }
   ],
   "source": [
    "# 2. using input as p,n,r values calculate interest with formula p*n*r/100\n",
    "#i =pxnxr/100\n",
    "p=int(input(\"Enter the Principal Amount : \"))\n",
    "n=int(input(\"Enter the period : \"))\n",
    "r=int(input(\"Enter the rate of interest : \"))\n",
    "SI=p*n*r/100\n",
    "print(f\"The interest {SI} of the {p},{n},&{r}\")"
   ]
  },
  {
   "cell_type": "code",
   "execution_count": 15,
   "id": "21e694cc",
   "metadata": {},
   "outputs": [
    {
     "name": "stdout",
     "output_type": "stream",
     "text": [
      "Enter the mass : 45\n",
      "Enter the Speed of the light : 55\n",
      "The relative speed of the : 136125.0\n"
     ]
    }
   ],
   "source": [
    "# 3. using formula e=m*c**c return result\n",
    "m=int(input(\"Enter the mass : \"))\n",
    "c=float(input(\"Enter the Speed of the light : \"))\n",
    "E=m*c**2\n",
    "print(f\"The relative speed of the : {E}\")"
   ]
  },
  {
   "cell_type": "code",
   "execution_count": 20,
   "id": "0609e19f",
   "metadata": {},
   "outputs": [
    {
     "name": "stdout",
     "output_type": "stream",
     "text": [
      "25\n"
     ]
    }
   ],
   "source": [
    "user=int(input())"
   ]
  },
  {
   "cell_type": "code",
   "execution_count": 32,
   "id": "b1f1e53d",
   "metadata": {},
   "outputs": [
    {
     "name": "stdout",
     "output_type": "stream",
     "text": [
      "3\n",
      "64.0\n"
     ]
    },
    {
     "data": {
      "text/plain": [
       "float"
      ]
     },
     "execution_count": 32,
     "metadata": {},
     "output_type": "execute_result"
    }
   ],
   "source": [
    "n=int(input())\n",
    "u=float(4**n)\n",
    "print(u)\n",
    "type(u)"
   ]
  },
  {
   "cell_type": "code",
   "execution_count": 46,
   "id": "0643ac53",
   "metadata": {},
   "outputs": [
    {
     "name": "stdout",
     "output_type": "stream",
     "text": [
      "-10\n"
     ]
    }
   ],
   "source": [
    "#int,float,complex,sequence----> list,tuple,sets,map----> dict\n",
    "\"\"\"this is no\"t my school\"\"\"\n",
    "#--> Boolean True False\n",
    "# ---> File handeling csv,text,excel\n",
    "# -----> OOPS \n",
    "a=10\n",
    "b=20\n",
    "c=a+b\n",
    "c=a-b\n",
    "print(c)   # memory override a"
   ]
  },
  {
   "cell_type": "markdown",
   "id": "26c41a72",
   "metadata": {},
   "source": [
    "## NIT Assignment-2"
   ]
  },
  {
   "cell_type": "raw",
   "id": "41d850ea",
   "metadata": {},
   "source": [
    "Data types, declarations and comments\n",
    "1.\tWrite python code to store two numbers and swap number\n",
    "2.\tWrite python code to handle two numbers as input and display the numbers\n",
    "3.\tWrite your python code to store firstname and lastname display name separated by comma\n",
    "4.\tEnter number and convert the given number into negative number\n",
    "5.\tFind out the data type of your given number \n",
    "Operators In python\n",
    "1.\tStore any number of three digits and display the sum of digits , ex: mynumber =345 , result should be 3+4+5=12\n",
    "2.\tStore any number of two digits display the reverse of the number ex num=45 , result  should be 54\n",
    "3.\tsearch a particular letter repeated for number of times from a given text  ex: str=\"apple\"  search for    'p'\n",
    "4.\tstore any two number from run time find the average of two numbers\n",
    "Conditional Statement and loop:\n",
    "1.\tenter any number as input and show the number divisible by 5\n",
    "2.\tenter two numbers and calculate the difference and store in third variable find it is positive or negative number\n",
    "3.\tfind out the smallest value of given three numbers\n",
    "4.\tRajesh want to open bank account with amount 3000 , bank expected minimum deposit is 5000 , write the python code to validate this condition."
   ]
  },
  {
   "cell_type": "markdown",
   "id": "6d3a8ef8",
   "metadata": {},
   "source": [
    "## 1.\tWrite python code to store two numbers and swap number"
   ]
  },
  {
   "cell_type": "code",
   "execution_count": 1,
   "id": "644ac504",
   "metadata": {},
   "outputs": [
    {
     "name": "stdout",
     "output_type": "stream",
     "text": [
      "the swap of the number : 10\n",
      "the swap of the number : 5\n"
     ]
    }
   ],
   "source": [
    "# 1.\tWrite python code to store two numbers and swap number\n",
    "a=5\n",
    "b=10\n",
    "a,b=b,a\n",
    "print(f\"the swap of the number : {a}\")\n",
    "print(f\"the swap of the number : {b}\")"
   ]
  },
  {
   "cell_type": "markdown",
   "id": "e8d0345e",
   "metadata": {},
   "source": [
    "## 2.\tWrite python code to handle two numbers as input and display the numbers "
   ]
  },
  {
   "cell_type": "code",
   "execution_count": 2,
   "id": "f7471d69",
   "metadata": {},
   "outputs": [
    {
     "name": "stdout",
     "output_type": "stream",
     "text": [
      "Enter the number : 34\n",
      "Enter the number : 55\n",
      "The python code to handle 34,55 display the number 89\n"
     ]
    }
   ],
   "source": [
    "#2.\tWrite python code to handle two numbers as input and display the numbers\n",
    "n1=int(input(\"Enter the number : \"))\n",
    "n2=int(input(\"Enter the number : \"))\n",
    "n3=n1+n2\n",
    "print(f\"The python code to handle {n1},{n2} display the number {n3}\")"
   ]
  },
  {
   "cell_type": "markdown",
   "id": "4fa5c002",
   "metadata": {},
   "source": [
    "## 3.\tWrite your python code to store firstname and lastname display name separated by comma"
   ]
  },
  {
   "cell_type": "code",
   "execution_count": 3,
   "id": "9fba5219",
   "metadata": {},
   "outputs": [
    {
     "name": "stdout",
     "output_type": "stream",
     "text": [
      "The Killi and Rama and Krishna.Th full name is Killi,Rama,Krishna\n"
     ]
    }
   ],
   "source": [
    "first_name=\"Killi\"\n",
    "Middle_name=\"Rama\"\n",
    "Last_name=\"Krishna\"\n",
    "full_name = first_name+\",\"+Middle_name+\",\"+Last_name\n",
    "print(f\"The {first_name} and {Middle_name} and {Last_name}.Th full name is {full_name}\")"
   ]
  },
  {
   "cell_type": "markdown",
   "id": "7d047f90",
   "metadata": {},
   "source": [
    "## 4.\tEnter number and convert the given number into negative number"
   ]
  },
  {
   "cell_type": "code",
   "execution_count": 5,
   "id": "b962d94b",
   "metadata": {},
   "outputs": [
    {
     "name": "stdout",
     "output_type": "stream",
     "text": [
      "Enter the number : 4\n",
      "The negative number -4\n"
     ]
    }
   ],
   "source": [
    "number=int(input(\"Enter the number : \"))\n",
    "num=-(number)\n",
    "print(f\"The negative number {num}\")"
   ]
  },
  {
   "cell_type": "markdown",
   "id": "57fc0d17",
   "metadata": {},
   "source": [
    "## 5.\tFind out the data type of your given number "
   ]
  },
  {
   "cell_type": "code",
   "execution_count": 10,
   "id": "6978f384",
   "metadata": {},
   "outputs": [
    {
     "name": "stdout",
     "output_type": "stream",
     "text": [
      "<class 'int'>\n",
      "<class 'float'>\n",
      "<class 'complex'>\n",
      "<class 'set'>\n",
      "<class 'dict'>\n",
      "<class 'bool'>\n",
      "<class 'bool'>\n",
      "<class 'frozenset'>\n",
      "<class 'bytes'>\n",
      "<class 'NoneType'>\n",
      "<class 'memoryview'>\n"
     ]
    }
   ],
   "source": [
    "# 5.Find out the data type of your given number \n",
    "a1=10\n",
    "b1=2.4\n",
    "c=2+3j\n",
    "d=[1,3,3,4,5]\n",
    "d=\"Python\"\n",
    "e={1,2,3,4,5}\n",
    "f={1:1,2:2}\n",
    "g=True\n",
    "h=False\n",
    "i=frozenset(f)\n",
    "j=bytearray(5)\n",
    "k=b\"hello\"\n",
    "l=None\n",
    "m=memoryview(j)\n",
    "print(type(a1))\n",
    "print(type(b1))\n",
    "print(type(c))\n",
    "print(type(e))\n",
    "print(type(f))\n",
    "print(type(g))\n",
    "print(type(h))\n",
    "print(type(i))\n",
    "print(type(k))\n",
    "print(type(l))\n",
    "print(type(m))"
   ]
  },
  {
   "cell_type": "markdown",
   "id": "417c7656",
   "metadata": {},
   "source": [
    "# Operators In python"
   ]
  },
  {
   "cell_type": "markdown",
   "id": "0da05645",
   "metadata": {},
   "source": [
    "## 1.\tStore any number of three digits and display the sum of digits , ex: mynumber =345 , result should be 3+4+5=12"
   ]
  },
  {
   "cell_type": "code",
   "execution_count": 12,
   "id": "13605362",
   "metadata": {},
   "outputs": [
    {
     "name": "stdout",
     "output_type": "stream",
     "text": [
      "Enter the Number : 345\n",
      "thee sum of three numbers 3+4+5= 12\n"
     ]
    }
   ],
   "source": [
    "n=int(input(\"Enter the Number : \"))\n",
    "str_convert=str(n)\n",
    "digits=0\n",
    "for digit in str_convert:\n",
    "    digits+=int(digit)\n",
    "print(f\"thee sum of three numbers 3+4+5= {digits}\")"
   ]
  },
  {
   "cell_type": "markdown",
   "id": "14fa2f18",
   "metadata": {},
   "source": [
    "## 2.\tStore any number of two digits display the reverse of the number ex num=45 , result  should be 54 "
   ]
  },
  {
   "cell_type": "code",
   "execution_count": 17,
   "id": "0d4cf29d",
   "metadata": {},
   "outputs": [
    {
     "name": "stdout",
     "output_type": "stream",
     "text": [
      "Enter the number :45\n",
      "The reverse of the number 54\n"
     ]
    }
   ],
   "source": [
    "num_1=int(input(\"Enter the number :\"))\n",
    "convert_str=str(num_1)\n",
    "nu_2=int(convert_str[::-1])\n",
    "print(f\"The reverse of the number {nu_2}\")"
   ]
  },
  {
   "cell_type": "markdown",
   "id": "04fa317f",
   "metadata": {},
   "source": [
    "## 3.\tsearch a particular letter repeated for number of times from a given text  ex: str=\"apple\"  search for    'p'"
   ]
  },
  {
   "cell_type": "code",
   "execution_count": 18,
   "id": "3a982792",
   "metadata": {},
   "outputs": [
    {
     "name": "stdout",
     "output_type": "stream",
     "text": [
      "Enter the name apple\n",
      "The letter repeated for number of times from the given text apple the count of the letter 2\n"
     ]
    }
   ],
   "source": [
    "name=input(\"Enter the name \")\n",
    "count_num_times=name.count(\"p\")\n",
    "print(f\"The letter repeated for number of times from the given text {name} the count of the letter {count_num_times}\")"
   ]
  },
  {
   "cell_type": "markdown",
   "id": "0e8eba09",
   "metadata": {},
   "source": [
    "## 4.store any two number from run time find the average of two numbers"
   ]
  },
  {
   "cell_type": "code",
   "execution_count": 22,
   "id": "91f64cb6",
   "metadata": {},
   "outputs": [
    {
     "name": "stdout",
     "output_type": "stream",
     "text": [
      "The two number from the run time average of two numbers 46913578,23456789.0\n"
     ]
    }
   ],
   "source": [
    "# 4.store any two number from run time find the average of two numbers\n",
    "l=23456789\n",
    "l1=23456789\n",
    "sum=l+l1\n",
    "average=sum/2\n",
    "print(f\"The two number from the run time average of two numbers {sum},{average}\")"
   ]
  },
  {
   "cell_type": "markdown",
   "id": "94e27c2b",
   "metadata": {},
   "source": [
    "# Conditional Statement and loop:"
   ]
  },
  {
   "cell_type": "markdown",
   "id": "27faaad1",
   "metadata": {},
   "source": [
    "## 1.\tenter any number as input and show the number divisible by 5"
   ]
  },
  {
   "cell_type": "code",
   "execution_count": 25,
   "id": "35fd7727",
   "metadata": {},
   "outputs": [
    {
     "name": "stdout",
     "output_type": "stream",
     "text": [
      "Enter the number:45\n",
      "Yes! the given number is divisible by 5\n"
     ]
    }
   ],
   "source": [
    "# 1.enter any number as input and show the number divisible by 5\n",
    "n_1=int(input(\"Enter the number:\"))\n",
    "if n_1%5==0:\n",
    "    print(\"Yes! the given number is divisible by 5\")\n",
    "else:\n",
    "    print(\"No! Given number is not divisible by 5\")"
   ]
  },
  {
   "cell_type": "markdown",
   "id": "64c2efa4",
   "metadata": {},
   "source": [
    "## 2.\tenter two numbers and calculate the difference and store in third variable find it is positive or negative number "
   ]
  },
  {
   "cell_type": "code",
   "execution_count": 5,
   "id": "59eb4071",
   "metadata": {},
   "outputs": [
    {
     "name": "stdout",
     "output_type": "stream",
     "text": [
      "Enter the number : 30\n",
      "Enter the number : 40\n",
      "Given number is negative number  -10\n"
     ]
    }
   ],
   "source": [
    "# 2.enter two numbers and calculate the difference and store in third variable find it is positive or negative number\n",
    "n4=int(input(\"Enter the number : \"))\n",
    "n5=int(input(\"Enter the number : \"))\n",
    "diff=n4-n5\n",
    "if diff>0:\n",
    "    print(\"Given number is Positive number \",diff)\n",
    "elif diff<0:\n",
    "    print(\"Given number is negative number \",diff)\n",
    "else:\n",
    "    print(\"Given number is Zero \",diff)"
   ]
  },
  {
   "cell_type": "markdown",
   "id": "64df1ba2",
   "metadata": {},
   "source": [
    "##  3.\tfind out the smallest value of given three numbers"
   ]
  },
  {
   "cell_type": "code",
   "execution_count": 31,
   "id": "53588f03",
   "metadata": {},
   "outputs": [
    {
     "name": "stdout",
     "output_type": "stream",
     "text": [
      "The smallest values of the given numbers 2\n"
     ]
    }
   ],
   "source": [
    "# 3.find out the smallest value of given three numbers\n",
    "A=2\n",
    "B=4\n",
    "C=6\n",
    "if A<B or B>C:\n",
    "    print(f\"The smallest values of the given numbers {A}\")\n",
    "else:\n",
    "    print(\"Given number is negative\")"
   ]
  },
  {
   "cell_type": "markdown",
   "id": "82d52e64",
   "metadata": {},
   "source": [
    "## 4.\tRajesh want to open bank account with amount 3000 , bank expected minimum deposit is 5000 , write the python code to validate this condition."
   ]
  },
  {
   "cell_type": "code",
   "execution_count": 7,
   "id": "5aa02e70",
   "metadata": {},
   "outputs": [
    {
     "name": "stdout",
     "output_type": "stream",
     "text": [
      "Enter the amount :90000\n",
      "Your account open sucessfully \n"
     ]
    }
   ],
   "source": [
    "# 4.Rajesh want to open bank account with amount 3000 , bank expected minimum deposit is 5000 , write the python code to validate this condition.\n",
    "inital_deposit=int(input(\"Enter the amount :\"))\n",
    "minium_deposit=5000\n",
    "if inital_deposit>=minium_deposit:\n",
    "    print(\"Your account open sucessfully \")\n",
    "else:\n",
    "    print(\"Please! deposit mininum_deposit amount \")"
   ]
  },
  {
   "cell_type": "markdown",
   "id": "305e395f",
   "metadata": {},
   "source": [
    "## NIT Assignment-3"
   ]
  },
  {
   "cell_type": "raw",
   "id": "924d7638",
   "metadata": {},
   "source": [
    "febonnica series\n",
    "strong number\n",
    "factorial program\n"
   ]
  },
  {
   "cell_type": "code",
   "execution_count": 10,
   "id": "20ee3738",
   "metadata": {},
   "outputs": [
    {
     "name": "stdout",
     "output_type": "stream",
     "text": [
      "Enter the number : 10\n",
      "3628800\n"
     ]
    }
   ],
   "source": [
    "#write a porgram to calculate of the given factorial number \n",
    "n=int(input(\"Enter the number : \"))\n",
    "fact=1\n",
    "if n<1:  # -1 given if will become true \n",
    "    print(f\"Sorry negative numbers cannot be accept! {n} \")\n",
    "elif n==0:\n",
    "    print(f\"The factorial 0 to 1\")\n",
    "else:\n",
    "    for i in range(1,n+1):     #2 ---> 1,3  range:0,1,2  n+1 0+1+2=n\n",
    "        fact=fact*i\n",
    "print(fact)"
   ]
  },
  {
   "cell_type": "code",
   "execution_count": 34,
   "id": "fb7e2d10",
   "metadata": {},
   "outputs": [
    {
     "name": "stdout",
     "output_type": "stream",
     "text": [
      "Enter the number: 145\n",
      "Given number is strong\n"
     ]
    }
   ],
   "source": [
    "# Find the Given number is Strong number\n",
    "n = int(input('Enter the number: '))\n",
    "s = 0\n",
    "t=n\n",
    "while n>0:\n",
    "    digit=n%10 # 145 ==> 1+24+120 = 145\n",
    "    fact=1\n",
    "    for i in range(1,digit+1):\n",
    "        fact=fact*i\n",
    "    s=s+fact\n",
    "    n=n//10\n",
    "if (s==t):\n",
    "    print(\"Given number is strong\")\n",
    "else:\n",
    "    print(\"Given number is not strong\")"
   ]
  },
  {
   "cell_type": "code",
   "execution_count": 8,
   "id": "a0274f72",
   "metadata": {},
   "outputs": [
    {
     "name": "stdout",
     "output_type": "stream",
     "text": [
      "Enter the number12\n",
      "0\n",
      "1\n",
      "1\n",
      "2\n",
      "3\n",
      "5\n",
      "8\n",
      "13\n",
      "21\n",
      "34\n",
      "55\n",
      "89\n",
      "144\n",
      "233\n"
     ]
    }
   ],
   "source": [
    "#febonnica series\n",
    "n=int(input(\"Enter the number\"))\n",
    "a=0\n",
    "b=1\n",
    "if n==1:\n",
    "    print(a)\n",
    "else:\n",
    "    print(a)\n",
    "    print(b)\n",
    "    for i in range(1,n+1):\n",
    "        c=a+b\n",
    "        a=b\n",
    "        b=c\n",
    "        print(c)"
   ]
  },
  {
   "cell_type": "code",
   "execution_count": null,
   "id": "10d4af3c",
   "metadata": {},
   "outputs": [],
   "source": []
  }
 ],
 "metadata": {
  "kernelspec": {
   "display_name": "Python 3 (ipykernel)",
   "language": "python",
   "name": "python3"
  },
  "language_info": {
   "codemirror_mode": {
    "name": "ipython",
    "version": 3
   },
   "file_extension": ".py",
   "mimetype": "text/x-python",
   "name": "python",
   "nbconvert_exporter": "python",
   "pygments_lexer": "ipython3",
   "version": "3.11.1"
  }
 },
 "nbformat": 4,
 "nbformat_minor": 5
}
